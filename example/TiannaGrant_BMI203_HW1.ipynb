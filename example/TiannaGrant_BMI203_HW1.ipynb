{
 "cells": [
  {
   "cell_type": "code",
   "execution_count": 1,
   "metadata": {},
   "outputs": [],
   "source": [
    "#Setup Environment\n",
    "#import matplotlib\n",
    "import numpy as np\n",
    "#import matplotlib.pyplot as plt\n",
    "from random import shuffle"
   ]
  },
  {
   "cell_type": "code",
   "execution_count": 2,
   "metadata": {},
   "outputs": [
    {
     "name": "stdout",
     "output_type": "stream",
     "text": [
      "(array([1, 2, 3, 4, 5, 6, 7, 8]), 88, 56)\n",
      "assignment_counter 88\n",
      "conditinal_counter 56\n"
     ]
    }
   ],
   "source": [
    "#Defintion of bubblesort\n",
    "\n",
    "def bubblesort(B):\n",
    "    global assignment_counter\n",
    "    global conditional_counter\n",
    "    #index the length of B as sorted is False\n",
    "    index_length = len(B) -1\n",
    "    assignment_counter+=1\n",
    "    sorted = False\n",
    "    assignment_counter+=1\n",
    "    #While sorted is False, if the element to the left is greater than the element to the right, swap\n",
    "    while not sorted:\n",
    "        sorted = True\n",
    "        assignment_counter+=1\n",
    "        conditional_counter+=1\n",
    "        for i in range(0, index_length):\n",
    "            assignment_counter+=1\n",
    "            conditional_counter+=1\n",
    "            if B[i] > B[i+1]:\n",
    "                sorted = False\n",
    "                assignment_counter+=3\n",
    "                #swapping\n",
    "                B[i], B[i+1] = B[i+1], B[i]\n",
    "    return B, assignment_counter, conditional_counter\n",
    "\n",
    "assignment_counter=0\n",
    "conditional_counter=0\n",
    "print(bubblesort(np.array([3,5,4,2,6,7,1,8])))\n",
    "print(\"assignment_counter\", assignment_counter)\n",
    "print(\"conditinal_counter\", conditional_counter)\n",
    "\n"
   ]
  },
  {
   "cell_type": "code",
   "execution_count": 3,
   "metadata": {},
   "outputs": [],
   "source": [
    "#For bubblesort\n",
    "n = 1000\n",
    "b_lengths = range(n)\n",
    "\n",
    "b_assignments_list = []\n",
    "b_conditional_list = []\n",
    "for i in b_lengths:\n",
    "    #make random list of size i\n",
    "    lst = [np.random.choice(b_lengths) ] \n",
    "    #call quicksort\n",
    "    bubblesort(lst)\n",
    "    #append assignments to assignments_list\n",
    "    b_assignments_list.append(assignment_counter) \n",
    "    #append condiotional_counter to conditional list\n",
    "    b_conditional_list.append(conditional_counter)\n",
    "    #print(assignments_list)"
   ]
  },
  {
   "cell_type": "code",
   "execution_count": 4,
   "metadata": {},
   "outputs": [
    {
     "name": "stdout",
     "output_type": "stream",
     "text": [
      "[1, 2, 3, 4, 5, 6, 7, 8]\n",
      "assignment_counter 81\n",
      "assignment_counter 71\n"
     ]
    }
   ],
   "source": [
    "import numpy as np\n",
    "\n",
    "def quicksort(A):\n",
    "    global assignment_counter\n",
    "    global conditional_counter\n",
    "    assignment_counter+=1\n",
    "    conditional_counter+=1\n",
    "    #if the length of A is <= than the list is sorted to return the list\n",
    "    if len(A) <= 1:\n",
    "        return A\n",
    "    L = []\n",
    "    R = []\n",
    "    assignment_counter+=2\n",
    "    p =  np.random.choice(range(len(A))) # random pivot\n",
    "    E = [A[p]] # this is a list of all the things that are equal to the pivot.\n",
    "    for i in range(len(A)):\n",
    "        assignment_counter+=3\n",
    "        conditional_counter+=3\n",
    "        if i == p:\n",
    "            continue\n",
    "        if A[i] < A[p]:\n",
    "            L.append(A[i])\n",
    "        elif A[i] > A[p]:\n",
    "            R.append(A[i])\n",
    "        else:\n",
    "            E.append(A[i])\n",
    "            \n",
    "    return quicksort(L) + E + quicksort(R)\n",
    "\n",
    "A = np.array([3, 5, 4, 2, 6, 7, 1, 8])\n",
    "assignment_counter=0\n",
    "conditional_counter=0\n",
    "print(quicksort(A))\n",
    "print(\"assignment_counter\", assignment_counter)\n",
    "print(\"assignment_counter\", conditional_counter)\n"
   ]
  },
  {
   "cell_type": "code",
   "execution_count": 5,
   "metadata": {},
   "outputs": [],
   "source": [
    "#For quicksort\n",
    "n = 1000\n",
    "lengths = range(n)\n",
    "\n",
    "assignments_list = []\n",
    "conditional_list = []\n",
    "for i in lengths:\n",
    "    #make random list of size i\n",
    "    lst = [np.random.choice(lengths)] \n",
    "    #call quicksort\n",
    "    quicksort(lst)\n",
    "    #append assignments to assignments_list\n",
    "    assignments_list.append(assignment_counter) \n",
    "    #append conditional_counter to conditional list\n",
    "    conditional_list.append(conditional_counter)\n",
    "    #print(assignments_list)"
   ]
  },
  {
   "cell_type": "code",
   "execution_count": 8,
   "metadata": {},
   "outputs": [
    {
     "data": {
      "text/plain": [
       "Text(0.5, 1.0, 'Quicksort(0(nlogn)) v. Bubblesort(0n^2)')"
      ]
     },
     "execution_count": 8,
     "metadata": {},
     "output_type": "execute_result"
    },
    {
     "data": {
      "image/png": "[encoded data removed]",
      "text/plain": [
       "<Figure size 432x288 with 1 Axes>"
      ]
     },
     "metadata": {
      "needs_background": "light"
     },
     "output_type": "display_data"
    }
   ],
   "source": [
    "import matplotlib.pyplot as plt\n",
    "plt.plot(lengths, assignments_list, color=\"red\", label=\"quicksort\")\n",
    "plt.plot(b_lengths,b_assignments_list, color=\"blue\", label=\"bubblesort\")\n",
    "plt.xlabel(\"n\")\n",
    "plt.ylabel(\"# of assignments\")\n",
    "plt.legend()\n",
    "plt.title(\"Quicksort(0(nlogn)) v. Bubblesort(0n^2)\")"
   ]
  },
  {
   "cell_type": "code",
   "execution_count": null,
   "metadata": {},
   "outputs": [],
   "source": [
    "# Above the plot ia what I expected. Based on the definitions written for bubblesort and quicksort. The plot illustrates that Quicksort(O(nlogn)) has fewer assignments than bubblesort because it does not have repeat the for loop n^2 times. "
   ]
  },
  {
   "cell_type": "code",
   "execution_count": 9,
   "metadata": {},
   "outputs": [
    {
     "data": {
      "text/plain": [
       "Text(0.5, 1.0, 'Quicksort(0(nlogn)) v. Bubblesort(0n^2)')"
      ]
     },
     "execution_count": 9,
     "metadata": {},
     "output_type": "execute_result"
    },
    {
     "data": {
      "image/png": "[encoded data removed]",
      "text/plain": [
       "<Figure size 432x288 with 1 Axes>"
      ]
     },
     "metadata": {
      "needs_background": "light"
     },
     "output_type": "display_data"
    }
   ],
   "source": [
    "#Number of conditionals\n",
    "\n",
    "import matplotlib.pyplot as plt\n",
    "plt.plot(lengths, conditional_list, color=\"red\", label=\"quicksort\")\n",
    "plt.plot(b_lengths,b_conditional_list, color=\"blue\", label=\"bubblesort\")\n",
    "plt.xlabel(\"n\")\n",
    "plt.ylabel(\"# of conditionals\")\n",
    "plt.legend()\n",
    "plt.title(\"Quicksort(0(nlogn)) v. Bubblesort(0n^2)\")"
   ]
  },
  {
   "cell_type": "code",
   "execution_count": null,
   "metadata": {},
   "outputs": [],
   "source": [
    "#The above illustration depicts the # of conditionals over the number of n's. This plot is expected, based on the defintions of bubblesort and quicksort. I expected to have about the same slope of conditionals"
   ]
  }
 ],
 "metadata": {
  "kernelspec": {
   "display_name": "Python 3",
   "language": "python",
   "name": "python3"
  },
  "language_info": {
   "codemirror_mode": {
    "name": "ipython",
    "version": 3
   },
   "file_extension": ".py",
   "mimetype": "text/x-python",
   "name": "python",
   "nbconvert_exporter": "python",
   "pygments_lexer": "ipython3",
   "version": "3.7.4"
  }
 },
 "nbformat": 4,
 "nbformat_minor": 2
}
